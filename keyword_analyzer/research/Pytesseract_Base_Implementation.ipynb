{
 "cells": [
  {
   "cell_type": "code",
   "execution_count": 4,
   "id": "8b493860",
   "metadata": {},
   "outputs": [
    {
     "name": "stdout",
     "output_type": "stream",
     "text": [
      "<PIL.PngImagePlugin.PngImageFile image mode=RGBA size=869x368 at 0x7F9D8715B6D0>\n",
      "This is the first line of\n",
      "this text example.\n",
      "\n",
      "This is the second line\n",
      "of the same text.\n",
      "\f",
      "\n"
     ]
    }
   ],
   "source": [
    "# import the following libraries\n",
    "# will convert the image to text string\n",
    "import pytesseract      \n",
    "  \n",
    "# adds image processing capabilities\n",
    "from PIL import Image      \n",
    "  \n",
    "\n",
    " # opening an image from the source path\n",
    "img = Image.open('img.png')     \n",
    "  \n",
    "# describes image format in the output\n",
    "print(img)                          \n",
    "# path where the tesseract module is installed\n",
    "# pytesseract.pytesseract.tesseract_cmd ='C:/Program Files (x86)/Tesseract-OCR/tesseract.exe'   \n",
    "\n",
    "# converts the image to result and saves it into result variable\n",
    "result = pytesseract.image_to_string(img)   \n",
    "# write text in a text file and save it to source path   \n",
    "# with open('abc.txt',mode ='w') as file:     \n",
    "      \n",
    "#                  file.write(result)\n",
    "print(result)\n",
    "                   "
   ]
  },
  {
   "cell_type": "code",
   "execution_count": null,
   "id": "1a10934b",
   "metadata": {},
   "outputs": [],
   "source": []
  },
  {
   "cell_type": "code",
   "execution_count": null,
   "id": "c1bb87dd",
   "metadata": {},
   "outputs": [],
   "source": []
  },
  {
   "cell_type": "code",
   "execution_count": null,
   "id": "2e3227d4",
   "metadata": {},
   "outputs": [],
   "source": []
  }
 ],
 "metadata": {
  "kernelspec": {
   "display_name": "Python 3",
   "language": "python",
   "name": "python3"
  },
  "language_info": {
   "codemirror_mode": {
    "name": "ipython",
    "version": 3
   },
   "file_extension": ".py",
   "mimetype": "text/x-python",
   "name": "python",
   "nbconvert_exporter": "python",
   "pygments_lexer": "ipython3",
   "version": "3.8.10"
  }
 },
 "nbformat": 4,
 "nbformat_minor": 5
}
